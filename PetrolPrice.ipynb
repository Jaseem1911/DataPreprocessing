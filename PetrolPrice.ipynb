{
  "nbformat": 4,
  "nbformat_minor": 0,
  "metadata": {
    "colab": {
      "provenance": [],
      "collapsed_sections": [],
      "mount_file_id": "1foPfhKGH3N5cQWjIkAmOFjuedtJdtr6y",
      "authorship_tag": "ABX9TyOkwEJv+tuKkgTPyyNO77T2",
      "include_colab_link": true
    },
    "kernelspec": {
      "name": "python3",
      "display_name": "Python 3"
    },
    "language_info": {
      "name": "python"
    }
  },
  "cells": [
    {
      "cell_type": "markdown",
      "metadata": {
        "id": "view-in-github",
        "colab_type": "text"
      },
      "source": [
        "<a href=\"https://colab.research.google.com/github/Jaseem1911/DataPreprocessing/blob/main/PetrolPrice.ipynb\" target=\"_parent\"><img src=\"https://colab.research.google.com/assets/colab-badge.svg\" alt=\"Open In Colab\"/></a>"
      ]
    },
    {
      "cell_type": "code",
      "execution_count": null,
      "metadata": {
        "id": "iBl_ZS2-p_Al"
      },
      "outputs": [],
      "source": [
        "import pandas as pd\n",
        "import numpy as np\n",
        "import matplotlib.pyplot as plt\n",
        "import seaborn as sns"
      ]
    },
    {
      "cell_type": "code",
      "source": [
        "dat=pd.read_csv('/content/drive/MyDrive/petrol.csv')"
      ],
      "metadata": {
        "id": "I3Y1CdVkqHl2"
      },
      "execution_count": null,
      "outputs": []
    },
    {
      "cell_type": "code",
      "source": [
        "dat.dtypes"
      ],
      "metadata": {
        "colab": {
          "base_uri": "https://localhost:8080/"
        },
        "id": "9IuCi8NzqSdP",
        "outputId": "55bb4281-9a41-45ed-d215-59d65e84e91a"
      },
      "execution_count": null,
      "outputs": [
        {
          "output_type": "execute_result",
          "data": {
            "text/plain": [
              "Date        object\n",
              "Delhi      float64\n",
              "Kolkata    float64\n",
              "Mumbai     float64\n",
              "Chennai    float64\n",
              "dtype: object"
            ]
          },
          "metadata": {},
          "execution_count": 5
        }
      ]
    },
    {
      "cell_type": "code",
      "source": [
        "data=dat.drop(['Date'],axis=1)\n",
        "data"
      ],
      "metadata": {
        "colab": {
          "base_uri": "https://localhost:8080/",
          "height": 424
        },
        "id": "R2HP5aaAqUUD",
        "outputId": "4c0936d7-7e2b-4989-96ad-26e618232000"
      },
      "execution_count": null,
      "outputs": [
        {
          "output_type": "execute_result",
          "data": {
            "text/plain": [
              "     Delhi  Kolkata  Mumbai  Chennai\n",
              "0    74.07    76.77   81.92    76.84\n",
              "1    74.02    76.73   81.87    76.79\n",
              "2    74.02    76.73   81.87    76.79\n",
              "3    74.02    76.73   81.87    76.79\n",
              "4    73.98    76.69   81.83    76.75\n",
              "..     ...      ...     ...      ...\n",
              "369  72.51    80.30   80.60    75.78\n",
              "370  73.60    81.43   81.75    76.93\n",
              "371  71.56    79.42   80.16    74.76\n",
              "372  71.51    79.36   80.11    74.71\n",
              "373  71.51    79.36   80.11    74.71\n",
              "\n",
              "[374 rows x 4 columns]"
            ],
            "text/html": [
              "\n",
              "  <div id=\"df-250a69e8-cb57-4eee-8061-eed6ce7e6591\">\n",
              "    <div class=\"colab-df-container\">\n",
              "      <div>\n",
              "<style scoped>\n",
              "    .dataframe tbody tr th:only-of-type {\n",
              "        vertical-align: middle;\n",
              "    }\n",
              "\n",
              "    .dataframe tbody tr th {\n",
              "        vertical-align: top;\n",
              "    }\n",
              "\n",
              "    .dataframe thead th {\n",
              "        text-align: right;\n",
              "    }\n",
              "</style>\n",
              "<table border=\"1\" class=\"dataframe\">\n",
              "  <thead>\n",
              "    <tr style=\"text-align: right;\">\n",
              "      <th></th>\n",
              "      <th>Delhi</th>\n",
              "      <th>Kolkata</th>\n",
              "      <th>Mumbai</th>\n",
              "      <th>Chennai</th>\n",
              "    </tr>\n",
              "  </thead>\n",
              "  <tbody>\n",
              "    <tr>\n",
              "      <th>0</th>\n",
              "      <td>74.07</td>\n",
              "      <td>76.77</td>\n",
              "      <td>81.92</td>\n",
              "      <td>76.84</td>\n",
              "    </tr>\n",
              "    <tr>\n",
              "      <th>1</th>\n",
              "      <td>74.02</td>\n",
              "      <td>76.73</td>\n",
              "      <td>81.87</td>\n",
              "      <td>76.79</td>\n",
              "    </tr>\n",
              "    <tr>\n",
              "      <th>2</th>\n",
              "      <td>74.02</td>\n",
              "      <td>76.73</td>\n",
              "      <td>81.87</td>\n",
              "      <td>76.79</td>\n",
              "    </tr>\n",
              "    <tr>\n",
              "      <th>3</th>\n",
              "      <td>74.02</td>\n",
              "      <td>76.73</td>\n",
              "      <td>81.87</td>\n",
              "      <td>76.79</td>\n",
              "    </tr>\n",
              "    <tr>\n",
              "      <th>4</th>\n",
              "      <td>73.98</td>\n",
              "      <td>76.69</td>\n",
              "      <td>81.83</td>\n",
              "      <td>76.75</td>\n",
              "    </tr>\n",
              "    <tr>\n",
              "      <th>...</th>\n",
              "      <td>...</td>\n",
              "      <td>...</td>\n",
              "      <td>...</td>\n",
              "      <td>...</td>\n",
              "    </tr>\n",
              "    <tr>\n",
              "      <th>369</th>\n",
              "      <td>72.51</td>\n",
              "      <td>80.30</td>\n",
              "      <td>80.60</td>\n",
              "      <td>75.78</td>\n",
              "    </tr>\n",
              "    <tr>\n",
              "      <th>370</th>\n",
              "      <td>73.60</td>\n",
              "      <td>81.43</td>\n",
              "      <td>81.75</td>\n",
              "      <td>76.93</td>\n",
              "    </tr>\n",
              "    <tr>\n",
              "      <th>371</th>\n",
              "      <td>71.56</td>\n",
              "      <td>79.42</td>\n",
              "      <td>80.16</td>\n",
              "      <td>74.76</td>\n",
              "    </tr>\n",
              "    <tr>\n",
              "      <th>372</th>\n",
              "      <td>71.51</td>\n",
              "      <td>79.36</td>\n",
              "      <td>80.11</td>\n",
              "      <td>74.71</td>\n",
              "    </tr>\n",
              "    <tr>\n",
              "      <th>373</th>\n",
              "      <td>71.51</td>\n",
              "      <td>79.36</td>\n",
              "      <td>80.11</td>\n",
              "      <td>74.71</td>\n",
              "    </tr>\n",
              "  </tbody>\n",
              "</table>\n",
              "<p>374 rows × 4 columns</p>\n",
              "</div>\n",
              "      <button class=\"colab-df-convert\" onclick=\"convertToInteractive('df-250a69e8-cb57-4eee-8061-eed6ce7e6591')\"\n",
              "              title=\"Convert this dataframe to an interactive table.\"\n",
              "              style=\"display:none;\">\n",
              "        \n",
              "  <svg xmlns=\"http://www.w3.org/2000/svg\" height=\"24px\"viewBox=\"0 0 24 24\"\n",
              "       width=\"24px\">\n",
              "    <path d=\"M0 0h24v24H0V0z\" fill=\"none\"/>\n",
              "    <path d=\"M18.56 5.44l.94 2.06.94-2.06 2.06-.94-2.06-.94-.94-2.06-.94 2.06-2.06.94zm-11 1L8.5 8.5l.94-2.06 2.06-.94-2.06-.94L8.5 2.5l-.94 2.06-2.06.94zm10 10l.94 2.06.94-2.06 2.06-.94-2.06-.94-.94-2.06-.94 2.06-2.06.94z\"/><path d=\"M17.41 7.96l-1.37-1.37c-.4-.4-.92-.59-1.43-.59-.52 0-1.04.2-1.43.59L10.3 9.45l-7.72 7.72c-.78.78-.78 2.05 0 2.83L4 21.41c.39.39.9.59 1.41.59.51 0 1.02-.2 1.41-.59l7.78-7.78 2.81-2.81c.8-.78.8-2.07 0-2.86zM5.41 20L4 18.59l7.72-7.72 1.47 1.35L5.41 20z\"/>\n",
              "  </svg>\n",
              "      </button>\n",
              "      \n",
              "  <style>\n",
              "    .colab-df-container {\n",
              "      display:flex;\n",
              "      flex-wrap:wrap;\n",
              "      gap: 12px;\n",
              "    }\n",
              "\n",
              "    .colab-df-convert {\n",
              "      background-color: #E8F0FE;\n",
              "      border: none;\n",
              "      border-radius: 50%;\n",
              "      cursor: pointer;\n",
              "      display: none;\n",
              "      fill: #1967D2;\n",
              "      height: 32px;\n",
              "      padding: 0 0 0 0;\n",
              "      width: 32px;\n",
              "    }\n",
              "\n",
              "    .colab-df-convert:hover {\n",
              "      background-color: #E2EBFA;\n",
              "      box-shadow: 0px 1px 2px rgba(60, 64, 67, 0.3), 0px 1px 3px 1px rgba(60, 64, 67, 0.15);\n",
              "      fill: #174EA6;\n",
              "    }\n",
              "\n",
              "    [theme=dark] .colab-df-convert {\n",
              "      background-color: #3B4455;\n",
              "      fill: #D2E3FC;\n",
              "    }\n",
              "\n",
              "    [theme=dark] .colab-df-convert:hover {\n",
              "      background-color: #434B5C;\n",
              "      box-shadow: 0px 1px 3px 1px rgba(0, 0, 0, 0.15);\n",
              "      filter: drop-shadow(0px 1px 2px rgba(0, 0, 0, 0.3));\n",
              "      fill: #FFFFFF;\n",
              "    }\n",
              "  </style>\n",
              "\n",
              "      <script>\n",
              "        const buttonEl =\n",
              "          document.querySelector('#df-250a69e8-cb57-4eee-8061-eed6ce7e6591 button.colab-df-convert');\n",
              "        buttonEl.style.display =\n",
              "          google.colab.kernel.accessAllowed ? 'block' : 'none';\n",
              "\n",
              "        async function convertToInteractive(key) {\n",
              "          const element = document.querySelector('#df-250a69e8-cb57-4eee-8061-eed6ce7e6591');\n",
              "          const dataTable =\n",
              "            await google.colab.kernel.invokeFunction('convertToInteractive',\n",
              "                                                     [key], {});\n",
              "          if (!dataTable) return;\n",
              "\n",
              "          const docLinkHtml = 'Like what you see? Visit the ' +\n",
              "            '<a target=\"_blank\" href=https://colab.research.google.com/notebooks/data_table.ipynb>data table notebook</a>'\n",
              "            + ' to learn more about interactive tables.';\n",
              "          element.innerHTML = '';\n",
              "          dataTable['output_type'] = 'display_data';\n",
              "          await google.colab.output.renderOutput(dataTable, element);\n",
              "          const docLink = document.createElement('div');\n",
              "          docLink.innerHTML = docLinkHtml;\n",
              "          element.appendChild(docLink);\n",
              "        }\n",
              "      </script>\n",
              "    </div>\n",
              "  </div>\n",
              "  "
            ]
          },
          "metadata": {},
          "execution_count": 6
        }
      ]
    },
    {
      "cell_type": "code",
      "source": [
        "y=data['Delhi']\n",
        "x=data.drop(['Delhi'],axis=1)"
      ],
      "metadata": {
        "id": "me5jLFhKqhRg"
      },
      "execution_count": null,
      "outputs": []
    },
    {
      "cell_type": "code",
      "source": [
        "# split into testing and training\n",
        "# testing and training set is available from sklearn library\n",
        "# sklearn-ppt\n",
        "from sklearn.model_selection import train_test_split\n",
        "# random state is a counter, which decides in which pattern the dataset should\n",
        "# be taken for testing and training   \n",
        "# test size is 0.25 that is 25% data for testing and 75% data for training\n",
        "x_train,x_test,y_train,y_test =train_test_split(x,y,random_state=42,test_size=0.25)"
      ],
      "metadata": {
        "id": "3Vo-iZCUq0-V"
      },
      "execution_count": null,
      "outputs": []
    },
    {
      "cell_type": "code",
      "source": [
        "x_test"
      ],
      "metadata": {
        "colab": {
          "base_uri": "https://localhost:8080/",
          "height": 424
        },
        "id": "wbT3xVRPq2ZU",
        "outputId": "97f7d2ea-5f2a-425f-9e41-3fc4aec7aed3"
      },
      "execution_count": null,
      "outputs": [
        {
          "output_type": "execute_result",
          "data": {
            "text/plain": [
              "     Kolkata  Mumbai  Chennai\n",
              "329    68.50   70.23    65.09\n",
              "33     75.01   80.14    74.95\n",
              "15     76.66   81.80    76.72\n",
              "325    64.18   65.04    59.65\n",
              "57     74.44   79.60    74.37\n",
              "..       ...     ...      ...\n",
              "110    72.69   77.84    72.49\n",
              "351    71.57   71.97    67.29\n",
              "60     74.78   79.94    74.74\n",
              "157    72.53   76.88    72.33\n",
              "322    67.61   71.00    64.13\n",
              "\n",
              "[94 rows x 3 columns]"
            ],
            "text/html": [
              "\n",
              "  <div id=\"df-827e262d-fb48-46be-b4de-71e3dde136df\">\n",
              "    <div class=\"colab-df-container\">\n",
              "      <div>\n",
              "<style scoped>\n",
              "    .dataframe tbody tr th:only-of-type {\n",
              "        vertical-align: middle;\n",
              "    }\n",
              "\n",
              "    .dataframe tbody tr th {\n",
              "        vertical-align: top;\n",
              "    }\n",
              "\n",
              "    .dataframe thead th {\n",
              "        text-align: right;\n",
              "    }\n",
              "</style>\n",
              "<table border=\"1\" class=\"dataframe\">\n",
              "  <thead>\n",
              "    <tr style=\"text-align: right;\">\n",
              "      <th></th>\n",
              "      <th>Kolkata</th>\n",
              "      <th>Mumbai</th>\n",
              "      <th>Chennai</th>\n",
              "    </tr>\n",
              "  </thead>\n",
              "  <tbody>\n",
              "    <tr>\n",
              "      <th>329</th>\n",
              "      <td>68.50</td>\n",
              "      <td>70.23</td>\n",
              "      <td>65.09</td>\n",
              "    </tr>\n",
              "    <tr>\n",
              "      <th>33</th>\n",
              "      <td>75.01</td>\n",
              "      <td>80.14</td>\n",
              "      <td>74.95</td>\n",
              "    </tr>\n",
              "    <tr>\n",
              "      <th>15</th>\n",
              "      <td>76.66</td>\n",
              "      <td>81.80</td>\n",
              "      <td>76.72</td>\n",
              "    </tr>\n",
              "    <tr>\n",
              "      <th>325</th>\n",
              "      <td>64.18</td>\n",
              "      <td>65.04</td>\n",
              "      <td>59.65</td>\n",
              "    </tr>\n",
              "    <tr>\n",
              "      <th>57</th>\n",
              "      <td>74.44</td>\n",
              "      <td>79.60</td>\n",
              "      <td>74.37</td>\n",
              "    </tr>\n",
              "    <tr>\n",
              "      <th>...</th>\n",
              "      <td>...</td>\n",
              "      <td>...</td>\n",
              "      <td>...</td>\n",
              "    </tr>\n",
              "    <tr>\n",
              "      <th>110</th>\n",
              "      <td>72.69</td>\n",
              "      <td>77.84</td>\n",
              "      <td>72.49</td>\n",
              "    </tr>\n",
              "    <tr>\n",
              "      <th>351</th>\n",
              "      <td>71.57</td>\n",
              "      <td>71.97</td>\n",
              "      <td>67.29</td>\n",
              "    </tr>\n",
              "    <tr>\n",
              "      <th>60</th>\n",
              "      <td>74.78</td>\n",
              "      <td>79.94</td>\n",
              "      <td>74.74</td>\n",
              "    </tr>\n",
              "    <tr>\n",
              "      <th>157</th>\n",
              "      <td>72.53</td>\n",
              "      <td>76.88</td>\n",
              "      <td>72.33</td>\n",
              "    </tr>\n",
              "    <tr>\n",
              "      <th>322</th>\n",
              "      <td>67.61</td>\n",
              "      <td>71.00</td>\n",
              "      <td>64.13</td>\n",
              "    </tr>\n",
              "  </tbody>\n",
              "</table>\n",
              "<p>94 rows × 3 columns</p>\n",
              "</div>\n",
              "      <button class=\"colab-df-convert\" onclick=\"convertToInteractive('df-827e262d-fb48-46be-b4de-71e3dde136df')\"\n",
              "              title=\"Convert this dataframe to an interactive table.\"\n",
              "              style=\"display:none;\">\n",
              "        \n",
              "  <svg xmlns=\"http://www.w3.org/2000/svg\" height=\"24px\"viewBox=\"0 0 24 24\"\n",
              "       width=\"24px\">\n",
              "    <path d=\"M0 0h24v24H0V0z\" fill=\"none\"/>\n",
              "    <path d=\"M18.56 5.44l.94 2.06.94-2.06 2.06-.94-2.06-.94-.94-2.06-.94 2.06-2.06.94zm-11 1L8.5 8.5l.94-2.06 2.06-.94-2.06-.94L8.5 2.5l-.94 2.06-2.06.94zm10 10l.94 2.06.94-2.06 2.06-.94-2.06-.94-.94-2.06-.94 2.06-2.06.94z\"/><path d=\"M17.41 7.96l-1.37-1.37c-.4-.4-.92-.59-1.43-.59-.52 0-1.04.2-1.43.59L10.3 9.45l-7.72 7.72c-.78.78-.78 2.05 0 2.83L4 21.41c.39.39.9.59 1.41.59.51 0 1.02-.2 1.41-.59l7.78-7.78 2.81-2.81c.8-.78.8-2.07 0-2.86zM5.41 20L4 18.59l7.72-7.72 1.47 1.35L5.41 20z\"/>\n",
              "  </svg>\n",
              "      </button>\n",
              "      \n",
              "  <style>\n",
              "    .colab-df-container {\n",
              "      display:flex;\n",
              "      flex-wrap:wrap;\n",
              "      gap: 12px;\n",
              "    }\n",
              "\n",
              "    .colab-df-convert {\n",
              "      background-color: #E8F0FE;\n",
              "      border: none;\n",
              "      border-radius: 50%;\n",
              "      cursor: pointer;\n",
              "      display: none;\n",
              "      fill: #1967D2;\n",
              "      height: 32px;\n",
              "      padding: 0 0 0 0;\n",
              "      width: 32px;\n",
              "    }\n",
              "\n",
              "    .colab-df-convert:hover {\n",
              "      background-color: #E2EBFA;\n",
              "      box-shadow: 0px 1px 2px rgba(60, 64, 67, 0.3), 0px 1px 3px 1px rgba(60, 64, 67, 0.15);\n",
              "      fill: #174EA6;\n",
              "    }\n",
              "\n",
              "    [theme=dark] .colab-df-convert {\n",
              "      background-color: #3B4455;\n",
              "      fill: #D2E3FC;\n",
              "    }\n",
              "\n",
              "    [theme=dark] .colab-df-convert:hover {\n",
              "      background-color: #434B5C;\n",
              "      box-shadow: 0px 1px 3px 1px rgba(0, 0, 0, 0.15);\n",
              "      filter: drop-shadow(0px 1px 2px rgba(0, 0, 0, 0.3));\n",
              "      fill: #FFFFFF;\n",
              "    }\n",
              "  </style>\n",
              "\n",
              "      <script>\n",
              "        const buttonEl =\n",
              "          document.querySelector('#df-827e262d-fb48-46be-b4de-71e3dde136df button.colab-df-convert');\n",
              "        buttonEl.style.display =\n",
              "          google.colab.kernel.accessAllowed ? 'block' : 'none';\n",
              "\n",
              "        async function convertToInteractive(key) {\n",
              "          const element = document.querySelector('#df-827e262d-fb48-46be-b4de-71e3dde136df');\n",
              "          const dataTable =\n",
              "            await google.colab.kernel.invokeFunction('convertToInteractive',\n",
              "                                                     [key], {});\n",
              "          if (!dataTable) return;\n",
              "\n",
              "          const docLinkHtml = 'Like what you see? Visit the ' +\n",
              "            '<a target=\"_blank\" href=https://colab.research.google.com/notebooks/data_table.ipynb>data table notebook</a>'\n",
              "            + ' to learn more about interactive tables.';\n",
              "          element.innerHTML = '';\n",
              "          dataTable['output_type'] = 'display_data';\n",
              "          await google.colab.output.renderOutput(dataTable, element);\n",
              "          const docLink = document.createElement('div');\n",
              "          docLink.innerHTML = docLinkHtml;\n",
              "          element.appendChild(docLink);\n",
              "        }\n",
              "      </script>\n",
              "    </div>\n",
              "  </div>\n",
              "  "
            ]
          },
          "metadata": {},
          "execution_count": 11
        }
      ]
    },
    {
      "cell_type": "code",
      "source": [
        "y_test"
      ],
      "metadata": {
        "colab": {
          "base_uri": "https://localhost:8080/"
        },
        "id": "AscVlPdgsoAS",
        "outputId": "44711a6f-2eec-49c0-b87e-02d8306bc8bc"
      },
      "execution_count": null,
      "outputs": [
        {
          "output_type": "execute_result",
          "data": {
            "text/plain": [
              "329    65.65\n",
              "33     72.27\n",
              "15     73.95\n",
              "325    60.09\n",
              "57     71.72\n",
              "       ...  \n",
              "110    69.94\n",
              "351    66.90\n",
              "60     72.07\n",
              "157    69.78\n",
              "322    64.58\n",
              "Name: Delhi, Length: 94, dtype: float64"
            ]
          },
          "metadata": {},
          "execution_count": 12
        }
      ]
    },
    {
      "cell_type": "code",
      "source": [
        "# make logistic regression model\n",
        "from sklearn import linear_model\n",
        "# create instance of the model\n",
        "lr=linear_model.LinearRegression()\n",
        "# now fitting the instances created to the training data and creating the linear regression model and store into another variable\n",
        "model=lr.fit(x_train,y_train)"
      ],
      "metadata": {
        "id": "pD7HaVDNso8-"
      },
      "execution_count": null,
      "outputs": []
    },
    {
      "cell_type": "code",
      "source": [
        "# predict the output\n",
        "predictions=model.predict(x_test)\n",
        "predictions"
      ],
      "metadata": {
        "colab": {
          "base_uri": "https://localhost:8080/"
        },
        "id": "CkiRyrXgt2Eg",
        "outputId": "10eceb29-384a-4eaf-d919-898e6c1427a9"
      },
      "execution_count": null,
      "outputs": [
        {
          "output_type": "execute_result",
          "data": {
            "text/plain": [
              "array([63.76823923, 72.11352413, 73.69801319, 59.0300319 , 71.58915784,\n",
              "       68.72894149, 72.8868914 , 69.42243739, 60.76560005, 69.10132391,\n",
              "       69.08807916, 72.30947454, 69.6281974 , 71.48711308, 69.68981782,\n",
              "       64.56318048, 73.80487247, 69.12427025, 58.53510904, 70.37146763,\n",
              "       73.72515651, 68.52641424, 73.15555136, 68.98855368, 66.78264496,\n",
              "       69.26218454, 69.65115582, 68.3715178 , 68.40770888, 74.67809906,\n",
              "       72.37280893, 69.94133438, 72.22038341, 60.73383906, 63.51395864,\n",
              "       69.62010177, 72.59247471, 72.70480329, 69.58434512, 68.6896015 ,\n",
              "       67.80876853, 63.95971533, 72.04252855, 70.27895344, 69.94133438,\n",
              "       69.1496405 , 71.5710623 , 71.57620421, 73.67192907, 72.15876298,\n",
              "       60.63304183, 69.38471641, 63.22366652, 70.27895344, 67.56553791,\n",
              "       60.12883878, 71.16073856, 73.76134759, 68.22496379, 72.84165255,\n",
              "       69.21473099, 68.56318555, 72.71775692, 72.10447636, 70.20795786,\n",
              "       73.08455578, 69.38249585, 61.07972641, 70.32247833, 72.52914031,\n",
              "       71.07930862, 68.38056557, 68.55242381, 63.51395864, 72.67621491,\n",
              "       68.46965669, 72.87784363, 72.3133804 , 62.95776433, 73.69801319,\n",
              "       72.80546146, 64.19609007, 73.68863803, 69.69981773, 69.54910618,\n",
              "       64.86235683, 61.95776613, 64.71951186, 69.80605226, 69.90652988,\n",
              "       65.92292416, 71.91976561, 69.78795672, 62.85501263])"
            ]
          },
          "metadata": {},
          "execution_count": 14
        }
      ]
    },
    {
      "cell_type": "code",
      "source": [
        "# original value in y_test\n",
        "print(y_test)"
      ],
      "metadata": {
        "colab": {
          "base_uri": "https://localhost:8080/"
        },
        "id": "953tPI5kuE8o",
        "outputId": "5e8d31f3-81c2-4041-aebc-a37eeda91fca"
      },
      "execution_count": null,
      "outputs": [
        {
          "output_type": "stream",
          "name": "stdout",
          "text": [
            "329    65.65\n",
            "33     72.27\n",
            "15     73.95\n",
            "325    60.09\n",
            "57     71.72\n",
            "       ...  \n",
            "110    69.94\n",
            "351    66.90\n",
            "60     72.07\n",
            "157    69.78\n",
            "322    64.58\n",
            "Name: Delhi, Length: 94, dtype: float64\n"
          ]
        }
      ]
    },
    {
      "cell_type": "code",
      "source": [
        "print(predictions)"
      ],
      "metadata": {
        "colab": {
          "base_uri": "https://localhost:8080/"
        },
        "id": "s4xjgCjPuM8O",
        "outputId": "f727a4ed-aade-4eff-c35b-976a4d38f95f"
      },
      "execution_count": null,
      "outputs": [
        {
          "output_type": "stream",
          "name": "stdout",
          "text": [
            "[63.76823923 72.11352413 73.69801319 59.0300319  71.58915784 68.72894149\n",
            " 72.8868914  69.42243739 60.76560005 69.10132391 69.08807916 72.30947454\n",
            " 69.6281974  71.48711308 69.68981782 64.56318048 73.80487247 69.12427025\n",
            " 58.53510904 70.37146763 73.72515651 68.52641424 73.15555136 68.98855368\n",
            " 66.78264496 69.26218454 69.65115582 68.3715178  68.40770888 74.67809906\n",
            " 72.37280893 69.94133438 72.22038341 60.73383906 63.51395864 69.62010177\n",
            " 72.59247471 72.70480329 69.58434512 68.6896015  67.80876853 63.95971533\n",
            " 72.04252855 70.27895344 69.94133438 69.1496405  71.5710623  71.57620421\n",
            " 73.67192907 72.15876298 60.63304183 69.38471641 63.22366652 70.27895344\n",
            " 67.56553791 60.12883878 71.16073856 73.76134759 68.22496379 72.84165255\n",
            " 69.21473099 68.56318555 72.71775692 72.10447636 70.20795786 73.08455578\n",
            " 69.38249585 61.07972641 70.32247833 72.52914031 71.07930862 68.38056557\n",
            " 68.55242381 63.51395864 72.67621491 68.46965669 72.87784363 72.3133804\n",
            " 62.95776433 73.69801319 72.80546146 64.19609007 73.68863803 69.69981773\n",
            " 69.54910618 64.86235683 61.95776613 64.71951186 69.80605226 69.90652988\n",
            " 65.92292416 71.91976561 69.78795672 62.85501263]\n"
          ]
        }
      ]
    },
    {
      "cell_type": "code",
      "source": [
        "# by comparing these values mean squared error is found.for that we import mean squared error from sklearn"
      ],
      "metadata": {
        "id": "nr7x3230uP0q"
      },
      "execution_count": null,
      "outputs": []
    },
    {
      "cell_type": "code",
      "source": [
        "from sklearn.metrics import mean_squared_error\n",
        "print('MSC is:',mean_squared_error(y_test,predictions))"
      ],
      "metadata": {
        "colab": {
          "base_uri": "https://localhost:8080/"
        },
        "id": "kREFDJ-huhKw",
        "outputId": "27cef3df-cf13-49dd-bfc4-afa5852e651d"
      },
      "execution_count": null,
      "outputs": [
        {
          "output_type": "stream",
          "name": "stdout",
          "text": [
            "MSC is: 0.3509449863116677\n"
          ]
        }
      ]
    },
    {
      "cell_type": "code",
      "source": [],
      "metadata": {
        "id": "mBzI3ib4u7Cm"
      },
      "execution_count": null,
      "outputs": []
    }
  ]
}